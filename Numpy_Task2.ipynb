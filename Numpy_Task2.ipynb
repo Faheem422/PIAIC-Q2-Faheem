{
  "nbformat": 4,
  "nbformat_minor": 0,
  "metadata": {
    "kernelspec": {
      "display_name": "Python 3",
      "language": "python",
      "name": "python3"
    },
    "language_info": {
      "codemirror_mode": {
        "name": "ipython",
        "version": 3
      },
      "file_extension": ".py",
      "mimetype": "text/x-python",
      "name": "python",
      "nbconvert_exporter": "python",
      "pygments_lexer": "ipython3",
      "version": "3.7.4"
    },
    "colab": {
      "name": "Numpy_Task2.ipynb",
      "provenance": []
    }
  },
  "cells": [
    {
      "cell_type": "markdown",
      "metadata": {
        "id": "Uyr-k70Q8t96"
      },
      "source": [
        "# CrunchieMunchies\n",
        "\n",
        "You work in marketing for a food company <b>myCorps</b>, which is developing a new kind of tasty, wholesome cereal called <b>CrunchieMunchies</b>. \n",
        "\n",
        "You want to demonstrate to consumers how healthy your cereal is in comparison to other leading brands, so you’ve dug up nutritional data on several different competitors.\n",
        "\n",
        "Your task is to use <em>NumPy statistical calculations</em> to analyze this data and prove that your <b>CrunchieMunchies</b> is the healthiest choice for consumers.\n",
        "\n",
        "\n",
        "\n",
        "\n"
      ]
    },
    {
      "cell_type": "code",
      "metadata": {
        "colab": {
          "base_uri": "https://localhost:8080/"
        },
        "id": "6SIya2mS9HGk",
        "outputId": "daa0ffea-381c-4b4e-892c-0c6daf429a83"
      },
      "source": [
        "from google.colab import drive\r\n",
        "drive.mount('/content/gdrive')"
      ],
      "execution_count": 1,
      "outputs": [
        {
          "output_type": "stream",
          "text": [
            "Mounted at /content/gdrive\n"
          ],
          "name": "stdout"
        }
      ]
    },
    {
      "cell_type": "markdown",
      "metadata": {
        "id": "GI4rzX4F8t_D"
      },
      "source": [
        "# Task STEPS\n"
      ]
    },
    {
      "cell_type": "markdown",
      "metadata": {
        "id": "8xTE4JvD8t_F"
      },
      "source": [
        "1.First, import numpy."
      ]
    },
    {
      "cell_type": "code",
      "metadata": {
        "id": "RlYXsGwH8t_G"
      },
      "source": [
        "# your code goes here\n",
        "\n",
        "import numpy as np\n"
      ],
      "execution_count": 2,
      "outputs": []
    },
    {
      "cell_type": "markdown",
      "metadata": {
        "id": "Hd14NSaO8t_I"
      },
      "source": [
        "2.Look over the <b><em>cereal.csv</em></b> file. This file contains the reported calorie amounts for different cereal brands. Load the data from the file and save it as <b><em>calorie_stats.</em></b>\n",
        "\n"
      ]
    },
    {
      "cell_type": "code",
      "metadata": {
        "colab": {
          "base_uri": "https://localhost:8080/"
        },
        "id": "rRWOwSWl8t_K",
        "outputId": "b7cd4b08-8b4a-43ba-e07f-31001bf73685"
      },
      "source": [
        "# your code goes here\n",
        "my_data = np.genfromtxt('/content/gdrive/MyDrive/PIAIC/cereal.csv', delimiter=',')\n",
        "calorie_stats = my_data\n",
        "calorie_stats"
      ],
      "execution_count": 3,
      "outputs": [
        {
          "output_type": "execute_result",
          "data": {
            "text/plain": [
              "array([ 70., 120.,  70.,  50., 110., 110., 110., 130.,  90.,  90., 120.,\n",
              "       110., 120., 110., 110., 110., 100., 110., 110., 110., 100., 110.,\n",
              "       100., 100., 110., 110., 100., 120., 120., 110., 100., 110., 100.,\n",
              "       110., 120., 120., 110., 110., 110., 140., 110., 100., 110., 100.,\n",
              "       150., 150., 160., 100., 120., 140.,  90., 130., 120., 100.,  50.,\n",
              "        50., 100., 100., 120., 100.,  90., 110., 110.,  80.,  90.,  90.,\n",
              "       110., 110.,  90., 110., 140., 100., 110., 110., 100., 100., 110.])"
            ]
          },
          "metadata": {
            "tags": []
          },
          "execution_count": 3
        }
      ]
    },
    {
      "cell_type": "markdown",
      "metadata": {
        "id": "FqAjkxK08t_L"
      },
      "source": [
        "3.There are <em>60 calories per serving of CrunchieMunchies</em>. How much <b>higher</b> is the <b>average calorie count</b> of your competition?\n",
        "\n",
        "Save the answer to the variable <b>average_calories</b> and print the variable to the terminal to see the answer.\n"
      ]
    },
    {
      "cell_type": "code",
      "metadata": {
        "id": "ArgqmdCp8t_M",
        "colab": {
          "base_uri": "https://localhost:8080/"
        },
        "outputId": "a1f6250d-3ce1-4ade-85e4-8e9fd903c09a"
      },
      "source": [
        "# your code goes here\n",
        "\n",
        "a = np.mean(calorie_stats)\n",
        "print(a)"
      ],
      "execution_count": 10,
      "outputs": [
        {
          "output_type": "stream",
          "text": [
            "106.88311688311688\n"
          ],
          "name": "stdout"
        }
      ]
    },
    {
      "cell_type": "markdown",
      "metadata": {
        "id": "uP-3sWeE8t_O"
      },
      "source": [
        "4.Does the <b>average calorie count</b> adequately reflect the distribution of the dataset? Let’s sort the data and see.\n",
        "\n",
        "<b><em>Sort</em></b> the data and save the result to the variable <b>calorie_stats_sorted</b>. Print the sorted data to the terminal.\n"
      ]
    },
    {
      "cell_type": "code",
      "metadata": {
        "id": "Z18DQodQ8t_X",
        "colab": {
          "base_uri": "https://localhost:8080/"
        },
        "outputId": "5ad4010f-ad40-4687-f770-6471b133ba8d"
      },
      "source": [
        "# your code goes here\n",
        "\n",
        "a = np.sort(calorie_stats)\n",
        "print(a)"
      ],
      "execution_count": 11,
      "outputs": [
        {
          "output_type": "stream",
          "text": [
            "[ 50.  50.  50.  70.  70.  80.  90.  90.  90.  90.  90.  90.  90. 100.\n",
            " 100. 100. 100. 100. 100. 100. 100. 100. 100. 100. 100. 100. 100. 100.\n",
            " 100. 100. 110. 110. 110. 110. 110. 110. 110. 110. 110. 110. 110. 110.\n",
            " 110. 110. 110. 110. 110. 110. 110. 110. 110. 110. 110. 110. 110. 110.\n",
            " 110. 110. 110. 120. 120. 120. 120. 120. 120. 120. 120. 120. 120. 130.\n",
            " 130. 140. 140. 140. 150. 150. 160.]\n"
          ],
          "name": "stdout"
        }
      ]
    },
    {
      "cell_type": "markdown",
      "metadata": {
        "id": "AyDXJUNZ8t_Y"
      },
      "source": [
        "5.Do you see what I’m seeing? Looks like <b><em>the majority of the cereals are higher than the mean</em></b>. Let’s see if the <b>median</b> is a better representative of the dataset.\n",
        "\n",
        "Calculate the median of the dataset and save your answer to <b><em >median_calories</em></b>. Print the median so you can see how it compares to the mean."
      ]
    },
    {
      "cell_type": "code",
      "metadata": {
        "id": "hUEbk2Hk8t_b",
        "colab": {
          "base_uri": "https://localhost:8080/"
        },
        "outputId": "4d2cb360-93fe-433e-ad4f-2bb1ada926b7"
      },
      "source": [
        "# your code goes here\n",
        "\n",
        "median_calories= np.median(calorie_stats)\n",
        "print(median_calories)"
      ],
      "execution_count": 13,
      "outputs": [
        {
          "output_type": "stream",
          "text": [
            "110.0\n"
          ],
          "name": "stdout"
        }
      ]
    },
    {
      "cell_type": "markdown",
      "metadata": {
        "id": "qGZPikcG8t_c"
      },
      "source": [
        "6.While the median demonstrates that <b><em><q>at least half of our values are over 100 calories</q></em></b>, it would be more impressive to show that a significant portion of the competition has a higher calorie count that CrunchieMunchies.\n",
        "\n",
        "<b>Calculate different percentiles</b> and print them to the terminal until you find the lowest percentile that is greater than 60 calories. Save this value to the variable <b>nth_percentile</b>.\n"
      ]
    },
    {
      "cell_type": "code",
      "metadata": {
        "id": "prejKzxo8t_d",
        "colab": {
          "base_uri": "https://localhost:8080/"
        },
        "outputId": "1f3922f8-d57b-4c09-f82e-cc4ede8c0759"
      },
      "source": [
        "# your code goes here\n",
        "nth_percentil = np.percentile(calorie_stats, 4)\n",
        "print(nth_percentil)\n"
      ],
      "execution_count": 14,
      "outputs": [
        {
          "output_type": "stream",
          "text": [
            "70.0\n"
          ],
          "name": "stdout"
        }
      ]
    },
    {
      "cell_type": "markdown",
      "metadata": {
        "id": "1yzpZNhY8t_d"
      },
      "source": [
        "7.While the percentile shows us that<b><em><q>the majority of the competition has a much higher calorie count</q></em></b>, it’s an awkward concept to use in marketing materials.\n",
        "\n",
        "Instead, let’s calculate the percentage of cereals that <b><em><q>have more than 60 calories per serving</q></em></b>. Save your answer to the variable <b><em>more_calories</em></b> and print it to the terminal"
      ]
    },
    {
      "cell_type": "code",
      "metadata": {
        "id": "xg9W3TSY8t_e",
        "colab": {
          "base_uri": "https://localhost:8080/"
        },
        "outputId": "426bbb0f-ccda-4e75-8cd6-a7ab329a3784"
      },
      "source": [
        "# your code goes here\n",
        "\n",
        "more_calories = np.mean(calorie_stats)\n",
        "print(more_calories)"
      ],
      "execution_count": 15,
      "outputs": [
        {
          "output_type": "stream",
          "text": [
            "106.88311688311688\n"
          ],
          "name": "stdout"
        }
      ]
    },
    {
      "cell_type": "markdown",
      "metadata": {
        "id": "VYwofrjY8t_g"
      },
      "source": [
        "8.Wow! That’s a really high percentage. That’s going to be very useful when we promote CrunchieMunchies. But one question is, <b><em>how much variation exists in the dataset? </b></em></q>Can we make the generalization that most cereals have around 100 calories or is the spread even greater?\n",
        "\n",
        "Calculate the amount of variation by finding the <b><em>standard deviation</em</b> Save your answer to <b><em>calorie_std</em></b> and print to the terminal. How can we incorporate this value into our analysis?"
      ]
    },
    {
      "cell_type": "code",
      "metadata": {
        "id": "RPxko6ks8t_i",
        "colab": {
          "base_uri": "https://localhost:8080/"
        },
        "outputId": "91a232c5-0587-49ae-c0ef-caa58582f198"
      },
      "source": [
        "# your code goes here\n",
        "\n",
        "calorie_std = np.std(calorie_stats)\n",
        "print(calorie_std)"
      ],
      "execution_count": 16,
      "outputs": [
        {
          "output_type": "stream",
          "text": [
            "19.35718533390827\n"
          ],
          "name": "stdout"
        }
      ]
    },
    {
      "cell_type": "markdown",
      "metadata": {
        "id": "qcNymn0p8t_j"
      },
      "source": [
        "9.Write a short paragraph that sums up your findings and how you think this data could be used to \n",
        "<b>myCorp’s</b> advantage when marketing CrunchieMunchies.\n"
      ]
    },
    {
      "cell_type": "code",
      "metadata": {
        "id": "VTfecZS88t_k"
      },
      "source": [
        "The competition cereals are clearly higher in caloric stats compared to the healthy option being proposed by Yummy Corp. \r\n",
        "CrunchieMunchies is lower in calories than the competition, which should be highlighted in the advertisement.\r\n",
        " We can use the percentage of cereals higher than CrunchieMunchies to highlight the comparison. \r\n",
        "This would require looking at the calorie_stat greater than 70"
      ],
      "execution_count": 9,
      "outputs": []
    }
  ]
}