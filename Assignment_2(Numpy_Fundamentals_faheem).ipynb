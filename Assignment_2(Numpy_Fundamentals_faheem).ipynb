{
  "nbformat": 4,
  "nbformat_minor": 0,
  "metadata": {
    "kernelspec": {
      "display_name": "Python 3",
      "language": "python",
      "name": "python3"
    },
    "language_info": {
      "codemirror_mode": {
        "name": "ipython",
        "version": 3
      },
      "file_extension": ".py",
      "mimetype": "text/x-python",
      "name": "python",
      "nbconvert_exporter": "python",
      "pygments_lexer": "ipython3",
      "version": "3.7.3"
    },
    "colab": {
      "name": "Assignment#2(Numpy Fundamentals.ipynb",
      "provenance": []
    }
  },
  "cells": [
    {
      "cell_type": "markdown",
      "metadata": {
        "id": "dtrTo19qcRmD"
      },
      "source": [
        "# Numpy_Assignment_2::"
      ]
    },
    {
      "cell_type": "markdown",
      "metadata": {
        "id": "YlpibZ7hcRmQ"
      },
      "source": [
        "## Question:1"
      ]
    },
    {
      "cell_type": "markdown",
      "metadata": {
        "id": "YaSmG_5JcRmT"
      },
      "source": [
        "### Convert a 1D array to a 2D array with 2 rows?"
      ]
    },
    {
      "cell_type": "markdown",
      "metadata": {
        "id": "DAT_yABBcRmV"
      },
      "source": [
        "#### Desired output::"
      ]
    },
    {
      "cell_type": "markdown",
      "metadata": {
        "id": "UdTbIQcwcRmX"
      },
      "source": [
        "array([[0, 1, 2, 3, 4],\n",
        "        [5, 6, 7, 8, 9]])"
      ]
    },
    {
      "cell_type": "code",
      "metadata": {
        "colab": {
          "base_uri": "https://localhost:8080/"
        },
        "id": "IvqIaS9KcRmZ",
        "outputId": "608f09bb-fea8-4cd5-c7d0-696df9a9a9bb"
      },
      "source": [
        "import numpy as np\r\n",
        "arr = np.array([0, 1, 2, 3, 4, 5, 6, 7, 8, 9])\r\n",
        "print('1D Numpy array:')\r\n",
        "print(arr)\r\n",
        "print(\"2D array \\n\", arr.reshape(2,5))"
      ],
      "execution_count": 4,
      "outputs": [
        {
          "output_type": "stream",
          "text": [
            "1D Numpy array:\n",
            "[0 1 2 3 4 5 6 7 8 9]\n",
            "2D array \n",
            " [[0 1 2 3 4]\n",
            " [5 6 7 8 9]]\n"
          ],
          "name": "stdout"
        }
      ]
    },
    {
      "cell_type": "markdown",
      "metadata": {
        "id": "XOTNh58fcRmb"
      },
      "source": [
        "## Question:2"
      ]
    },
    {
      "cell_type": "markdown",
      "metadata": {
        "id": "WaTc18oocRmb"
      },
      "source": [
        "###  How to stack two arrays vertically?"
      ]
    },
    {
      "cell_type": "markdown",
      "metadata": {
        "id": "Xo4WBKqRcRmc"
      },
      "source": [
        "#### Desired Output::"
      ]
    },
    {
      "cell_type": "markdown",
      "metadata": {
        "id": "nlaiabXZcRmd"
      },
      "source": [
        "array([[0, 1, 2, 3, 4],\n",
        "        [5, 6, 7, 8, 9],\n",
        "       [1, 1, 1, 1, 1],\n",
        "       [1, 1, 1, 1, 1]])"
      ]
    },
    {
      "cell_type": "code",
      "metadata": {
        "colab": {
          "base_uri": "https://localhost:8080/"
        },
        "id": "ynbn4xwJcRme",
        "outputId": "fa09de5b-b5e9-46dc-9f79-ce240091a4bb"
      },
      "source": [
        "a = np.arange(0,10).reshape(2,5)\r\n",
        "print(\"Array 1 \\n \", a)\r\n",
        "b = np.ones([2,5], int)\r\n",
        "print(\"Array 2 \\n \", b)\r\n",
        "print(\"Verticle stack \\n\", np.vstack((a,b)))\r\n",
        "\r\n",
        "\r\n"
      ],
      "execution_count": 15,
      "outputs": [
        {
          "output_type": "stream",
          "text": [
            "Array 1 \n",
            "  [[0 1 2 3 4]\n",
            " [5 6 7 8 9]]\n",
            "Array 2 \n",
            "  [[1 1 1 1 1]\n",
            " [1 1 1 1 1]]\n",
            "Verticle stack \n",
            " [[0 1 2 3 4]\n",
            " [5 6 7 8 9]\n",
            " [1 1 1 1 1]\n",
            " [1 1 1 1 1]]\n"
          ],
          "name": "stdout"
        }
      ]
    },
    {
      "cell_type": "markdown",
      "metadata": {
        "id": "dYx-Sy0HcRme"
      },
      "source": [
        "## Question:3"
      ]
    },
    {
      "cell_type": "markdown",
      "metadata": {
        "id": "3cVjv2QPcRmg"
      },
      "source": [
        "### How to stack two arrays horizontally?"
      ]
    },
    {
      "cell_type": "markdown",
      "metadata": {
        "id": "1Uz0Ni58cRmg"
      },
      "source": [
        "#### Desired Output::"
      ]
    },
    {
      "cell_type": "markdown",
      "metadata": {
        "id": "NCWJ-WLgcRmh"
      },
      "source": [
        "array([[0, 1, 2, 3, 4, 1, 1, 1, 1, 1],\n",
        "       [5, 6, 7, 8, 9, 1, 1, 1, 1, 1]])"
      ]
    },
    {
      "cell_type": "code",
      "metadata": {
        "colab": {
          "base_uri": "https://localhost:8080/"
        },
        "id": "44GQFz3ucRmh",
        "outputId": "cbe52121-4f66-426b-9ae8-27c425c2b5e5"
      },
      "source": [
        "a = np.arange(0,10).reshape(2,5)\r\n",
        "print(\"Array 1 \\n \", a)\r\n",
        "b = np.ones([2,5], int)\r\n",
        "print(\"Array 2 \\n \", b)\r\n",
        "print(\"Horizontal stack \\n\", np.hstack((a,b)))"
      ],
      "execution_count": 16,
      "outputs": [
        {
          "output_type": "stream",
          "text": [
            "Array 1 \n",
            "  [[0 1 2 3 4]\n",
            " [5 6 7 8 9]]\n",
            "Array 2 \n",
            "  [[1 1 1 1 1]\n",
            " [1 1 1 1 1]]\n",
            "Verticle stack \n",
            " [[0 1 2 3 4 1 1 1 1 1]\n",
            " [5 6 7 8 9 1 1 1 1 1]]\n"
          ],
          "name": "stdout"
        }
      ]
    },
    {
      "cell_type": "markdown",
      "metadata": {
        "id": "m1KqFF2ycRmi"
      },
      "source": [
        "## Question:4"
      ]
    },
    {
      "cell_type": "markdown",
      "metadata": {
        "id": "qPMZoot9cRmi"
      },
      "source": [
        "### How to convert an array of arrays into a flat 1d array?"
      ]
    },
    {
      "cell_type": "markdown",
      "metadata": {
        "id": "f1Nddw65cRmj"
      },
      "source": [
        "#### Desired Output::"
      ]
    },
    {
      "cell_type": "markdown",
      "metadata": {
        "id": "NLnbrsuscRmj"
      },
      "source": [
        "array([0, 1, 2, 3, 4, 5, 6, 7, 8, 9])"
      ]
    },
    {
      "cell_type": "code",
      "metadata": {
        "colab": {
          "base_uri": "https://localhost:8080/"
        },
        "id": "iUoZQmgecRmj",
        "outputId": "da22bbe5-0c48-4433-ab66-1c9ae2a83f90"
      },
      "source": [
        "a = np.arange(0,10).reshape(2,5)\r\n",
        "print(a)\r\n",
        "print(\"flat 1d array n\", a.flatten() )"
      ],
      "execution_count": 46,
      "outputs": [
        {
          "output_type": "stream",
          "text": [
            "[[0 1 2 3 4]\n",
            " [5 6 7 8 9]]\n",
            "flat 1d array n [0 1 2 3 4 5 6 7 8 9]\n"
          ],
          "name": "stdout"
        }
      ]
    },
    {
      "cell_type": "markdown",
      "metadata": {
        "id": "0vQukF3GcRmk"
      },
      "source": [
        "## Question:5"
      ]
    },
    {
      "cell_type": "markdown",
      "metadata": {
        "id": "TqRMZpRxcRmk"
      },
      "source": [
        "### How to Convert higher dimension into one dimension?"
      ]
    },
    {
      "cell_type": "markdown",
      "metadata": {
        "id": "TemdLHnTcRmk"
      },
      "source": [
        "#### Desired Output::"
      ]
    },
    {
      "cell_type": "markdown",
      "metadata": {
        "id": "GKoT9r4McRml"
      },
      "source": [
        "array([ 0, 1, 2, 3, 4, 5, 6, 7, 8, 9, 10, 11, 12, 13, 14])"
      ]
    },
    {
      "cell_type": "code",
      "metadata": {
        "colab": {
          "base_uri": "https://localhost:8080/"
        },
        "id": "ge00V1krcRml",
        "outputId": "23b481db-dcdd-4b59-e63f-a5d304b9df40"
      },
      "source": [
        "a = np.arange(0,15).reshape(3,5)\r\n",
        "print(a)\r\n",
        "print(a.ravel())"
      ],
      "execution_count": 39,
      "outputs": [
        {
          "output_type": "stream",
          "text": [
            "[[ 0  1  2  3  4]\n",
            " [ 5  6  7  8  9]\n",
            " [10 11 12 13 14]]\n",
            "[ 0  1  2  3  4  5  6  7  8  9 10 11 12 13 14]\n"
          ],
          "name": "stdout"
        }
      ]
    },
    {
      "cell_type": "markdown",
      "metadata": {
        "id": "mbJymviicRml"
      },
      "source": [
        "## Question:6"
      ]
    },
    {
      "cell_type": "markdown",
      "metadata": {
        "id": "Ia-2Fp_ecRmm"
      },
      "source": [
        "### Convert one dimension to higher dimension?"
      ]
    },
    {
      "cell_type": "markdown",
      "metadata": {
        "id": "dpWpvSM4cRmm"
      },
      "source": [
        "#### Desired Output::"
      ]
    },
    {
      "cell_type": "markdown",
      "metadata": {
        "id": "sQWtEcoAcRmn"
      },
      "source": [
        "array([[ 0, 1, 2],\n",
        "[ 3, 4, 5],\n",
        "[ 6, 7, 8],\n",
        "[ 9, 10, 11],\n",
        "[12, 13, 14]])"
      ]
    },
    {
      "cell_type": "code",
      "metadata": {
        "colab": {
          "base_uri": "https://localhost:8080/"
        },
        "id": "3K7NLWMLcRmn",
        "outputId": "390c27d2-9c6f-4103-ec37-3bf007e97ae5"
      },
      "source": [
        "a = np.arange(0,15).reshape(1,15)\r\n",
        "print(a)\r\n",
        "print(\"Higher dimention \\n\", np.hsplit(a,5))"
      ],
      "execution_count": 42,
      "outputs": [
        {
          "output_type": "stream",
          "text": [
            "[[ 0  1  2  3  4  5  6  7  8  9 10 11 12 13 14]]\n",
            "Higher dimention \n",
            " [array([[0, 1, 2]]), array([[3, 4, 5]]), array([[6, 7, 8]]), array([[ 9, 10, 11]]), array([[12, 13, 14]])]\n"
          ],
          "name": "stdout"
        }
      ]
    },
    {
      "cell_type": "markdown",
      "metadata": {
        "id": "EDuOKHWmcRmn"
      },
      "source": [
        "## Question:7"
      ]
    },
    {
      "cell_type": "markdown",
      "metadata": {
        "id": "aR6L7GtxcRmo"
      },
      "source": [
        "### Create 5x5 an array and find the square of an array?"
      ]
    },
    {
      "cell_type": "code",
      "metadata": {
        "colab": {
          "base_uri": "https://localhost:8080/"
        },
        "id": "77xWMerYcRmo",
        "outputId": "84695b93-46bf-4dcc-d27c-7de42d27a741"
      },
      "source": [
        "a = np.arange(25).reshape(5,5)\r\n",
        "print(a)\r\n",
        "print(\"Square of array \\n\", np.square(a))"
      ],
      "execution_count": 20,
      "outputs": [
        {
          "output_type": "stream",
          "text": [
            "[[ 0  1  2  3  4]\n",
            " [ 5  6  7  8  9]\n",
            " [10 11 12 13 14]\n",
            " [15 16 17 18 19]\n",
            " [20 21 22 23 24]]\n",
            "Square of array \n",
            " [[  0   1   4   9  16]\n",
            " [ 25  36  49  64  81]\n",
            " [100 121 144 169 196]\n",
            " [225 256 289 324 361]\n",
            " [400 441 484 529 576]]\n"
          ],
          "name": "stdout"
        }
      ]
    },
    {
      "cell_type": "markdown",
      "metadata": {
        "id": "LVi_pvjycRmo"
      },
      "source": [
        "## Question:8"
      ]
    },
    {
      "cell_type": "markdown",
      "metadata": {
        "id": "_A6hGkMWcRmp"
      },
      "source": [
        "### Create 5x6 an array and find the mean?"
      ]
    },
    {
      "cell_type": "code",
      "metadata": {
        "colab": {
          "base_uri": "https://localhost:8080/"
        },
        "id": "qS0N1n9scRmp",
        "outputId": "7130f619-325d-43bd-a9aa-dde326c6ca57"
      },
      "source": [
        "a = np.arange(30).reshape(5,6)\r\n",
        "print(a)\r\n",
        "print(\"mean of array \\n\", a.mean())"
      ],
      "execution_count": 22,
      "outputs": [
        {
          "output_type": "stream",
          "text": [
            "[[ 0  1  2  3  4  5]\n",
            " [ 6  7  8  9 10 11]\n",
            " [12 13 14 15 16 17]\n",
            " [18 19 20 21 22 23]\n",
            " [24 25 26 27 28 29]]\n",
            "Square of array \n",
            " 14.5\n"
          ],
          "name": "stdout"
        }
      ]
    },
    {
      "cell_type": "markdown",
      "metadata": {
        "id": "t5jhavt5cRmp"
      },
      "source": [
        "## Question:9"
      ]
    },
    {
      "cell_type": "markdown",
      "metadata": {
        "id": "95-kazyXcRmq"
      },
      "source": [
        "### Find the standard deviation of the previous array in Q8?"
      ]
    },
    {
      "cell_type": "code",
      "metadata": {
        "colab": {
          "base_uri": "https://localhost:8080/"
        },
        "id": "vpmYGLh8cRmq",
        "outputId": "6bcb2def-b6c4-4c96-898a-58681d3ebd71"
      },
      "source": [
        "print(\"S.deviation of array \\n\", a.std())"
      ],
      "execution_count": 23,
      "outputs": [
        {
          "output_type": "stream",
          "text": [
            "S.deviation of array \n",
            " 8.65544144839919\n"
          ],
          "name": "stdout"
        }
      ]
    },
    {
      "cell_type": "markdown",
      "metadata": {
        "id": "AI9EIxYKcRmq"
      },
      "source": [
        "## Question:10"
      ]
    },
    {
      "cell_type": "markdown",
      "metadata": {
        "id": "BfMxiAqBcRmr"
      },
      "source": [
        "### Find the median of the previous array in Q8?"
      ]
    },
    {
      "cell_type": "code",
      "metadata": {
        "colab": {
          "base_uri": "https://localhost:8080/"
        },
        "id": "17ikhBJgcRmr",
        "outputId": "754a0ad5-12e0-41f5-e22d-cc2aef9e4a08"
      },
      "source": [
        "print(\"median of array \\n\", np.median(a))"
      ],
      "execution_count": 25,
      "outputs": [
        {
          "output_type": "stream",
          "text": [
            "Square of array \n",
            " 14.5\n"
          ],
          "name": "stdout"
        }
      ]
    },
    {
      "cell_type": "markdown",
      "metadata": {
        "id": "aixQ4XUrcRmr"
      },
      "source": [
        "## Question:11"
      ]
    },
    {
      "cell_type": "markdown",
      "metadata": {
        "id": "hxLcRBTRcRms"
      },
      "source": [
        "### Find the transpose of the previous array in Q8?"
      ]
    },
    {
      "cell_type": "code",
      "metadata": {
        "colab": {
          "base_uri": "https://localhost:8080/"
        },
        "id": "6NgYllt3cRms",
        "outputId": "325e2313-7a1c-43b8-d03c-e31046134a71"
      },
      "source": [
        "print(\"transpose of array \\n\", np.transpose(a))"
      ],
      "execution_count": 27,
      "outputs": [
        {
          "output_type": "stream",
          "text": [
            "transpose of array \n",
            " [[ 0  6 12 18 24]\n",
            " [ 1  7 13 19 25]\n",
            " [ 2  8 14 20 26]\n",
            " [ 3  9 15 21 27]\n",
            " [ 4 10 16 22 28]\n",
            " [ 5 11 17 23 29]]\n"
          ],
          "name": "stdout"
        }
      ]
    },
    {
      "cell_type": "markdown",
      "metadata": {
        "id": "NOlvifRjcRms"
      },
      "source": [
        "## Question:12"
      ]
    },
    {
      "cell_type": "markdown",
      "metadata": {
        "id": "Fpt1BcACcRmt"
      },
      "source": [
        "### Create a 4x4 an array and find the sum of diagonal elements?"
      ]
    },
    {
      "cell_type": "code",
      "metadata": {
        "colab": {
          "base_uri": "https://localhost:8080/"
        },
        "id": "IkUL8BQfcRmt",
        "outputId": "44a9f540-8fa0-4d91-8912-475c3a0dc6e5"
      },
      "source": [
        "a = np.arange(16).reshape(4,4)\r\n",
        "print(a)\r\n",
        "print(\"sum of diagonal elements \\n\", np.trace(a))"
      ],
      "execution_count": 30,
      "outputs": [
        {
          "output_type": "stream",
          "text": [
            "[[ 0  1  2  3]\n",
            " [ 4  5  6  7]\n",
            " [ 8  9 10 11]\n",
            " [12 13 14 15]]\n",
            "sum of diagonal elements \n",
            " 30\n"
          ],
          "name": "stdout"
        }
      ]
    },
    {
      "cell_type": "markdown",
      "metadata": {
        "id": "H7ACdiilcRmt"
      },
      "source": [
        "## Question:13"
      ]
    },
    {
      "cell_type": "markdown",
      "metadata": {
        "id": "15Rko_tlcRmu"
      },
      "source": [
        "### Find the determinant of the previous array in Q12?"
      ]
    },
    {
      "cell_type": "code",
      "metadata": {
        "colab": {
          "base_uri": "https://localhost:8080/"
        },
        "id": "t5I51KDhcRmu",
        "outputId": "000acfd5-c8b1-41f0-bf33-98ebdaed77b2"
      },
      "source": [
        "print(\"sum of diagonal elements \\n\", np.linalg.det(a))"
      ],
      "execution_count": 32,
      "outputs": [
        {
          "output_type": "stream",
          "text": [
            "sum of diagonal elements \n",
            " 0.0\n"
          ],
          "name": "stdout"
        }
      ]
    },
    {
      "cell_type": "markdown",
      "metadata": {
        "id": "DO2pUPprcRmu"
      },
      "source": [
        "## Question:14"
      ]
    },
    {
      "cell_type": "markdown",
      "metadata": {
        "id": "-cPpP19ScRmv"
      },
      "source": [
        "### Find the 5th and 95th percentile of an array?"
      ]
    },
    {
      "cell_type": "code",
      "metadata": {
        "colab": {
          "base_uri": "https://localhost:8080/"
        },
        "id": "Zo4bbzpocRmv",
        "outputId": "7e836623-12d7-4e6d-de7c-7151162a2291"
      },
      "source": [
        "print('\\n',np.percentile(a,5))\r\n",
        "print(np.percentile(a,95))"
      ],
      "execution_count": 33,
      "outputs": [
        {
          "output_type": "stream",
          "text": [
            "\n",
            " 0.75\n",
            "14.25\n"
          ],
          "name": "stdout"
        }
      ]
    },
    {
      "cell_type": "markdown",
      "metadata": {
        "id": "75ip-CgVcRmw"
      },
      "source": [
        "## Question:15"
      ]
    },
    {
      "cell_type": "markdown",
      "metadata": {
        "id": "afi6HU0fcRmw"
      },
      "source": [
        "### How to find if a given array has any null values?"
      ]
    },
    {
      "cell_type": "code",
      "metadata": {
        "colab": {
          "base_uri": "https://localhost:8080/"
        },
        "id": "1_kcGCftcRmx",
        "outputId": "969c798b-96b9-42bf-85b9-482d66585b60"
      },
      "source": [
        "\r\n",
        "print(a)\r\n",
        "print('\\n',np.isnan(a))"
      ],
      "execution_count": 34,
      "outputs": [
        {
          "output_type": "stream",
          "text": [
            "[[ 0  1  2  3]\n",
            " [ 4  5  6  7]\n",
            " [ 8  9 10 11]\n",
            " [12 13 14 15]]\n",
            "\n",
            " [[False False False False]\n",
            " [False False False False]\n",
            " [False False False False]\n",
            " [False False False False]]\n"
          ],
          "name": "stdout"
        }
      ]
    }
  ]
}