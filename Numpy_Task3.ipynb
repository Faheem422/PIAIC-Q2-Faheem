{
  "nbformat": 4,
  "nbformat_minor": 0,
  "metadata": {
    "kernelspec": {
      "display_name": "Python 3",
      "language": "python",
      "name": "python3"
    },
    "language_info": {
      "codemirror_mode": {
        "name": "ipython",
        "version": 3
      },
      "file_extension": ".py",
      "mimetype": "text/x-python",
      "name": "python",
      "nbconvert_exporter": "python",
      "pygments_lexer": "ipython3",
      "version": "3.7.4"
    },
    "colab": {
      "name": "Numpy_Task3.ipynb",
      "provenance": []
    }
  },
  "cells": [
    {
      "cell_type": "markdown",
      "metadata": {
        "id": "3vCdIjKPFUIy"
      },
      "source": [
        "# Election Results\n",
        "\n",
        "You’re part of an impartial research group that conducts phone surveys prior to local elections. During this election season, the group conducted a survey to determine how many people would vote for I_Khan vs. S_Sharif in the presidential election.\n",
        "\n",
        "Now that the election has occurred, your group wants to compare the survey responses to the actual results.\n",
        "\n",
        "Was your survey a good indicator? Let’s find out!"
      ]
    },
    {
      "cell_type": "markdown",
      "metadata": {
        "id": "sHL56v3KFUKF"
      },
      "source": [
        "# PROJECT STEPS"
      ]
    },
    {
      "cell_type": "markdown",
      "metadata": {
        "id": "giVC07JqFUKh"
      },
      "source": [
        "1.First, import numpy and matplotlib."
      ]
    },
    {
      "cell_type": "code",
      "metadata": {
        "id": "ziKBK4_QFUKj"
      },
      "source": [
        "#type your code here\n",
        "import numpy as np\n",
        "import  matplotlib as plt\n"
      ],
      "execution_count": 26,
      "outputs": []
    },
    {
      "cell_type": "markdown",
      "metadata": {
        "id": "EkztUq0gFUKl"
      },
      "source": [
        "2.There is a list given of the different survey responses.\n",
        "\n",
        "Calculate the number of people who answered ‘I_Khan’ and save the answer to the variable total_Khan.\n",
        "\n",
        "Print the variable to the terminal to see its value."
      ]
    },
    {
      "cell_type": "code",
      "metadata": {
        "colab": {
          "base_uri": "https://localhost:8080/"
        },
        "id": "92yuW8MKFUKm",
        "outputId": "e0e1b78b-08ca-4816-de4f-23a658074493"
      },
      "source": [
        "survey_responses = ['I_Khan', 'S_Sharif', 'I_Khan', 'I_Khan', 'I_Khan','S_Sharif',\n",
        "                    'S_Sharif', 'I_Khan', 'I_Khan', 'I_Khan', 'S_Sharif', 'S_Sharif',\n",
        "                    'I_Khan', 'I_Khan', 'S_Sharif', 'S_Sharif','I_Khan', 'I_Khan', \n",
        "                    'S_Sharif', 'S_Sharif', 'S_Sharif', 'S_Sharif', 'S_Sharif', 'S_Sharif', \n",
        "                    'I_Khan', 'I_Khan', 'I_Khan', 'I_Khan', 'I_Khan', 'I_Khan',\n",
        "                    'S_Sharif', 'S_Sharif', 'I_Khan', 'I_Khan', 'I_Khan', 'S_Sharif',\n",
        "                    'S_Sharif', 'I_Khan', 'I_Khan', 'S_Sharif', 'S_Sharif', 'I_Khan', \n",
        "                    'I_Khan', 'S_Sharif', 'S_Sharif', 'S_Sharif', 'S_Sharif', 'S_Sharif',\n",
        "                    'S_Sharif', 'I_Khan','S_Sharif', 'S_Sharif', 'I_Khan', 'I_Khan', \n",
        "                    'I_Khan', 'S_Sharif', 'S_Sharif', 'I_Khan', 'I_Khan', 'S_Sharif', \n",
        "                    'S_Sharif', 'I_Khan', 'I_Khan', 'S_Sharif', 'S_Sharif', 'S_Sharif', \n",
        "                    'S_Sharif', 'S_Sharif', 'S_Sharif', 'I_Khan']\n",
        "\n",
        "#type your code here\n",
        "total_Khan =survey_responses.count('I_Khan')\n",
        "print(total_Khan)"
      ],
      "execution_count": 22,
      "outputs": [
        {
          "output_type": "stream",
          "text": [
            "33\n"
          ],
          "name": "stdout"
        }
      ]
    },
    {
      "cell_type": "markdown",
      "metadata": {
        "id": "7YHB9EZzFUKt"
      },
      "source": [
        "3.Calculate the percentage of people in the survey who voted for I_Khan and save it to the variable percentage_I_Khan.\n",
        "\n",
        "Print the variable to the terminal to see its value."
      ]
    },
    {
      "cell_type": "code",
      "metadata": {
        "colab": {
          "base_uri": "https://localhost:8080/"
        },
        "id": "DHm0cwb8FUKu",
        "outputId": "2686578c-ab32-4294-b8d7-b0e69ae59f83"
      },
      "source": [
        "#type your code here\n",
        "\n",
        "percentage_I_Khan = (total_Khan/len(survey_responses))*100\n",
        "print(percentage_I_Khan)\n",
        "len(survey_responses)"
      ],
      "execution_count": 31,
      "outputs": [
        {
          "output_type": "stream",
          "text": [
            "47.14285714285714\n"
          ],
          "name": "stdout"
        },
        {
          "output_type": "execute_result",
          "data": {
            "text/plain": [
              "70"
            ]
          },
          "metadata": {
            "tags": []
          },
          "execution_count": 31
        }
      ]
    },
    {
      "cell_type": "markdown",
      "metadata": {
        "id": "ld4JJxE7FUKv"
      },
      "source": [
        "4.In the real election, 54% of the 10,000 town population voted for I_Khan. Your supervisors are concerned because this is a very different outcome than what the poll predicted. They want you to determine if there is something wrong with the poll or if given the sample size, it was an entirely reasonable result.\n",
        "\n",
        "Generate a binomial distribution that takes the number of total survey responses, the actual success rate, and the size of the town’s population as its parameters. Then divide the distribution by the number of survey responses. Save your calculation to the variable possible_surveys.\n",
        "\n",
        "######### hint###########\n",
        "possible_surveys = \n",
        "np.random.binomial(total of survey responses, the actual success rate,and the size of the town’s population ) "
      ]
    },
    {
      "cell_type": "code",
      "metadata": {
        "colab": {
          "base_uri": "https://localhost:8080/"
        },
        "id": "Zwm38N3kFUKx",
        "outputId": "b947bfe9-cbbf-47c5-ad37-875a5f389f59"
      },
      "source": [
        "#type your code here\n",
        "\n",
        "possible_surveys = np.random.binomial(len(survey_responses), 0.54,10000 )/70\n",
        "print(possible_surveys)"
      ],
      "execution_count": 24,
      "outputs": [
        {
          "output_type": "stream",
          "text": [
            "[0.54285714 0.51428571 0.44285714 ... 0.58571429 0.4        0.44285714]\n"
          ],
          "name": "stdout"
        }
      ]
    },
    {
      "cell_type": "markdown",
      "metadata": {
        "id": "WcSuZAlkFUL0"
      },
      "source": [
        "\n",
        "      #######Optional########\n",
        "5.By using matplotlib Plot a histogram of possible_surveys with a range of 0-1 and 20 bins.\n"
      ]
    },
    {
      "cell_type": "code",
      "metadata": {
        "colab": {
          "base_uri": "https://localhost:8080/",
          "height": 265
        },
        "id": "5iRg9qVbFUL1",
        "outputId": "48f2631a-355a-4a3e-ef6c-cc8d7f800cd5"
      },
      "source": [
        "#type your code here\n",
        "import matplotlib.pyplot as plt\n",
        "plt.hist(possible_surveys, range=(0,1), bins=20)\n",
        "plt.show()\n"
      ],
      "execution_count": 27,
      "outputs": [
        {
          "output_type": "display_data",
          "data": {
            "image/png": "[encoded data removed]",
            "text/plain": [
              "<Figure size 432x288 with 1 Axes>"
            ]
          },
          "metadata": {
            "tags": [],
            "needs_background": "light"
          }
        }
      ]
    },
    {
      "cell_type": "markdown",
      "metadata": {
        "id": "-8WXhpwBFUL4"
      },
      "source": [
        "6.As we saw, 47% of people we surveyed said they would vote for I_Khan, but 54% of people voted for I_Khan in the actual election.\n",
        "\n",
        "Calculate the percentage of surveys that could have an outcome of I_Khan receiving less than 50% of the vote and save it to the variable I_Khan_loss_surveys.\n",
        "\n",
        "Print the variable to the terminal."
      ]
    },
    {
      "cell_type": "code",
      "metadata": {
        "colab": {
          "base_uri": "https://localhost:8080/"
        },
        "id": "WWK2IQ8DFUL5",
        "outputId": "0fa24a52-b7af-4a5a-f6f0-6c47744d5acf"
      },
      "source": [
        "#type your code here\n",
        "I_Khan_loss_surveys= np.mean(possible_surveys < 0.5)\n",
        "print(I_Khan_loss_surveys)"
      ],
      "execution_count": 28,
      "outputs": [
        {
          "output_type": "stream",
          "text": [
            "0.2011\n"
          ],
          "name": "stdout"
        }
      ]
    },
    {
      "cell_type": "markdown",
      "metadata": {
        "id": "fXW6BkV0FUL6"
      },
      "source": [
        "7.With this current poll, about 20% of the time a survey output would predict S_Sharif winning, even if I_Khan won the actual election.\n",
        "\n",
        "Your co-worker points out that your poll would be more accurate if it had more responders.\n",
        "\n",
        "Generate another binomial distribution, but this time, see what would happen if you had instead surveyed 7,000 people. Divide the distribution by the size of the survey and save your findings to large_survey.\n"
      ]
    },
    {
      "cell_type": "code",
      "metadata": {
        "colab": {
          "base_uri": "https://localhost:8080/"
        },
        "id": "pAV_wCP4FUL7",
        "outputId": "3212d164-05c8-4dee-faa5-88b688af7beb"
      },
      "source": [
        "#type your code here\n",
        "\n",
        "large_survey = np.random.binomial(7000, 0.54,10000 )/7000\n",
        "print(large_survey)"
      ],
      "execution_count": 32,
      "outputs": [
        {
          "output_type": "stream",
          "text": [
            "[0.53385714 0.53485714 0.52728571 ... 0.54185714 0.53642857 0.53071429]\n"
          ],
          "name": "stdout"
        }
      ]
    },
    {
      "cell_type": "markdown",
      "metadata": {
        "id": "gIB3y1oMFUMC"
      },
      "source": [
        "8.Now, recalculate the percentage of surveys that would have an outcome of I_Khan losing and save it to the variable I_Khan_loss_new, and print the value to the terminal.\n",
        "\n",
        "What do we notice about this new value?\n",
        "\n",
        "What advice would you give to your supervisors about predicting results from surveys?\n"
      ]
    },
    {
      "cell_type": "code",
      "metadata": {
        "colab": {
          "base_uri": "https://localhost:8080/"
        },
        "id": "Vga84nalFUMD",
        "outputId": "b4543d14-9182-4643-d61a-169bd2db3ac4"
      },
      "source": [
        "#type your code here\n",
        "\n",
        "I_Khan_loss_new = (46/100)*70\n",
        "print(I_Khan_loss_new)"
      ],
      "execution_count": 33,
      "outputs": [
        {
          "output_type": "stream",
          "text": [
            "32.2\n"
          ],
          "name": "stdout"
        }
      ]
    }
  ]
}