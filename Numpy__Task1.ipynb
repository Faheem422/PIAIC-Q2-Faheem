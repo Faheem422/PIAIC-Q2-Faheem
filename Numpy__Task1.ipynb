{
  "nbformat": 4,
  "nbformat_minor": 0,
  "metadata": {
    "kernelspec": {
      "display_name": "Python 3",
      "language": "python",
      "name": "python3"
    },
    "language_info": {
      "codemirror_mode": {
        "name": "ipython",
        "version": 3
      },
      "file_extension": ".py",
      "mimetype": "text/x-python",
      "name": "python",
      "nbconvert_exporter": "python",
      "pygments_lexer": "ipython3",
      "version": "3.7.4"
    },
    "colab": {
      "name": "Numpy _Task1.ipynb",
      "provenance": [],
      "collapsed_sections": []
    }
  },
  "cells": [
    {
      "cell_type": "markdown",
      "metadata": {
        "id": "Nr5nk_wItRA-"
      },
      "source": [
        "# Reading Recipes \n",
        "\n",
        "Note: Data file is recipes.csv Attached with jupyter notebook"
      ]
    },
    {
      "cell_type": "markdown",
      "metadata": {
        "id": "G8XX3m8jtRBM"
      },
      "source": [
        "1. Start by importing NumPy as np"
      ]
    },
    {
      "cell_type": "code",
      "metadata": {
        "id": "QuQvc96HtRBO"
      },
      "source": [
        "#type your code here\n",
        "import numpy as np\n",
        "\n"
      ],
      "execution_count": 1,
      "outputs": []
    },
    {
      "cell_type": "code",
      "metadata": {
        "id": "kdFaSh4u9FKo"
      },
      "source": [
        ""
      ],
      "execution_count": null,
      "outputs": []
    },
    {
      "cell_type": "code",
      "metadata": {
        "colab": {
          "base_uri": "https://localhost:8080/"
        },
        "id": "a33ycot98og_",
        "outputId": "599dbfc0-a4af-4c7c-f387-90dca245db15"
      },
      "source": [
        "from google.colab import drive\r\n",
        "drive.mount('/content/gdrive')"
      ],
      "execution_count": 2,
      "outputs": [
        {
          "output_type": "stream",
          "text": [
            "Mounted at /content/gdrive\n"
          ],
          "name": "stdout"
        }
      ]
    },
    {
      "cell_type": "markdown",
      "metadata": {
        "id": "7xHEJvsVtRBP"
      },
      "source": [
        "2. All of Alize’s recipes call for milk, eggs, sugar, flour, and butter. For example, her cupcake recipe calls for:\n",
        "\n",
        "Flour Sugar Eggs Milk Butter 2 cups 0.75 cups 2 eggs 1 cups 0.5 cups Create a NumPy array that represents this data. Each element should be a number (i.e., 2 for “2 cups”). Save this array as cupcakes."
      ]
    },
    {
      "cell_type": "code",
      "metadata": {
        "id": "iMNMICKntRBQ",
        "colab": {
          "base_uri": "https://localhost:8080/"
        },
        "outputId": "aee2f2eb-3d0a-4ecd-ba96-cf9286e7d045"
      },
      "source": [
        "#type your code here\n",
        "cupcakes=np.array([2,0.75,2,1,0.5])\n",
        "print(\"cupcakes\")"
      ],
      "execution_count": 3,
      "outputs": [
        {
          "output_type": "stream",
          "text": [
            "cupcakes\n"
          ],
          "name": "stdout"
        }
      ]
    },
    {
      "cell_type": "markdown",
      "metadata": {
        "id": "HcJlw0wttRBQ"
      },
      "source": [
        "3. Alize’s assistant has compiled all of her recipes into a csv (comma-separated variable) file called recipes.csv. Load this file into a variable called recipes.\n",
        "\n",
        "###########Explore yourselves how to load a csv file in numpy#######"
      ]
    },
    {
      "cell_type": "code",
      "metadata": {
        "id": "7SqYCqxNtRBR",
        "colab": {
          "base_uri": "https://localhost:8080/"
        },
        "outputId": "520172be-f6ae-4055-f6ff-a3cee53beee7"
      },
      "source": [
        "#type your code here\n",
        "import numpy as np\n",
        "my_data = np.genfromtxt('/content/gdrive/MyDrive/PIAIC/recipes.csv', delimiter=',')\n",
        "print(my_data)"
      ],
      "execution_count": 5,
      "outputs": [
        {
          "output_type": "stream",
          "text": [
            "[[2.    0.75  2.    1.    0.5  ]\n",
            " [1.    0.125 1.    1.    0.125]\n",
            " [2.75  1.5   1.    0.    1.   ]\n",
            " [4.    0.5   2.    2.    0.5  ]]\n"
          ],
          "name": "stdout"
        }
      ]
    },
    {
      "cell_type": "markdown",
      "metadata": {
        "id": "80aY1NuctRBS"
      },
      "source": [
        "4.Display recipes using print.\n",
        "Display recipes using print.\n",
        "\n",
        "\n",
        "Each row represents a different recipe. Each column represents a different ingredient.\n",
        "\n",
        "Recipe\t       Cups of Flour\tCups of Sugar\tEggs\tCups of Milk\tCups of Butter\n",
        "\n",
        "Cupcakes\t         …\t              …\t          …\t         …\t              …\n",
        "\n",
        "Pancake\t             …                …\t          …\t         …\t              …\n",
        "\n",
        "Cookie\t             …\t              …\t          …\t         …\t              …\n",
        "\n",
        "Bread\t             …\t              …\t          …\t         …\t              …"
      ]
    },
    {
      "cell_type": "code",
      "metadata": {
        "id": "oFVuphBUtRBT",
        "colab": {
          "base_uri": "https://localhost:8080/"
        },
        "outputId": "cb7435fb-8d2c-443c-d1bc-912f9eaebd64"
      },
      "source": [
        "#type your code here\n",
        "print('\\t Flour','\\t Sugar','\\t Eggs','\\t Butter')\n",
        "print('Cupcakes', my_data[0])\n",
        "print('Pancake' , my_data[1])\n",
        "print('Cookie'  , my_data[2])\n",
        "print('Bread'   , my_data[3])"
      ],
      "execution_count": 10,
      "outputs": [
        {
          "output_type": "stream",
          "text": [
            "\t Flour \t Sugar \t Eggs \t Butter\n",
            "Cupcakes [2.   0.75 2.   1.   0.5 ]\n",
            "Pancake [1.    0.125 1.    1.    0.125]\n",
            "Cookie [2.75 1.5  1.   0.   1.  ]\n",
            "Bread [4.  0.5 2.  2.  0.5]\n"
          ],
          "name": "stdout"
        }
      ]
    },
    {
      "cell_type": "markdown",
      "metadata": {
        "id": "SxO0r_17tRBT"
      },
      "source": [
        "5.The 3rd column represents the number of eggs that each recipe needs.\n",
        "\n",
        "Select all elements from the 3rd column and save them to the variable eggs."
      ]
    },
    {
      "cell_type": "code",
      "metadata": {
        "id": "4sC8AxaMtRBU",
        "colab": {
          "base_uri": "https://localhost:8080/"
        },
        "outputId": "fab60ebf-b069-4efd-e2a5-e9dd179d4b45"
      },
      "source": [
        "#type your code here\n",
        "eggs = my_data[:,2]\n",
        "print(eggs)"
      ],
      "execution_count": 42,
      "outputs": [
        {
          "output_type": "stream",
          "text": [
            "[2. 1. 1. 2.]\n"
          ],
          "name": "stdout"
        }
      ]
    },
    {
      "cell_type": "markdown",
      "metadata": {
        "id": "r51uySqctRBU"
      },
      "source": [
        "6.Which recipes require exactly 1 egg? Use a logical statement to get True or False for each value of eggs."
      ]
    },
    {
      "cell_type": "code",
      "metadata": {
        "id": "YQt2CRYitRBV",
        "colab": {
          "base_uri": "https://localhost:8080/"
        },
        "outputId": "73f5b283-5166-4575-e164-2d19f58a7a5b"
      },
      "source": [
        "#type your code here\n",
        "print(my_data[eggs == 1])\n"
      ],
      "execution_count": 43,
      "outputs": [
        {
          "output_type": "stream",
          "text": [
            "[[1.    0.125 1.    1.    0.125]\n",
            " [2.75  1.5   1.    0.    1.   ]]\n"
          ],
          "name": "stdout"
        }
      ]
    },
    {
      "cell_type": "markdown",
      "metadata": {
        "id": "MXI4QnoZtRBV"
      },
      "source": [
        "7.Alize is going to make 2 batches of cupcakes (1st row) and 1 batch of cookies (3rd row).\n",
        "\n",
        "You already have a variable for cupcakes. Create a variable for cookies with the data from the 3rd row.\n"
      ]
    },
    {
      "cell_type": "code",
      "metadata": {
        "id": "kb98_hrStRBW",
        "colab": {
          "base_uri": "https://localhost:8080/"
        },
        "outputId": "116790bf-7518-4856-ada9-4d6b0075ff6f"
      },
      "source": [
        "#type your code here\n",
        "cookies = my_data[2,:]\n",
        "print(cookies)"
      ],
      "execution_count": 45,
      "outputs": [
        {
          "output_type": "stream",
          "text": [
            "[2.75 1.5  1.   0.   1.  ]\n"
          ],
          "name": "stdout"
        }
      ]
    },
    {
      "cell_type": "markdown",
      "metadata": {
        "id": "Re35KHN0tRBW"
      },
      "source": [
        "8.\n",
        "Get the number of ingredients for a double batch of cupcakes by using multiplication on cupcakes. Save your new variable to double_batch."
      ]
    },
    {
      "cell_type": "code",
      "metadata": {
        "id": "895sxU71tRBX",
        "colab": {
          "base_uri": "https://localhost:8080/"
        },
        "outputId": "23a2791f-0cb2-442a-e70c-d6d0bdfe3d12"
      },
      "source": [
        "#type your code here\n",
        "double_batch = cupcakes*2\n",
        "double_batch "
      ],
      "execution_count": 46,
      "outputs": [
        {
          "output_type": "execute_result",
          "data": {
            "text/plain": [
              "array([4. , 1.5, 4. , 2. , 1. ])"
            ]
          },
          "metadata": {
            "tags": []
          },
          "execution_count": 46
        }
      ]
    },
    {
      "cell_type": "markdown",
      "metadata": {
        "id": "xBihfo8xtRBX"
      },
      "source": [
        "9.\n",
        "Create a new variable called grocery_list by adding cookies and double_batch."
      ]
    },
    {
      "cell_type": "code",
      "metadata": {
        "id": "zuxj_-P5tRBY",
        "colab": {
          "base_uri": "https://localhost:8080/"
        },
        "outputId": "b9de7945-b44e-442e-dd2b-7ae4a8674615"
      },
      "source": [
        "#type your code here\n",
        "grocery_list = cookies+double_batch\n",
        "grocery_list"
      ],
      "execution_count": 47,
      "outputs": [
        {
          "output_type": "execute_result",
          "data": {
            "text/plain": [
              "array([6.75, 3.  , 5.  , 2.  , 2.  ])"
            ]
          },
          "metadata": {
            "tags": []
          },
          "execution_count": 47
        }
      ]
    },
    {
      "cell_type": "code",
      "metadata": {
        "id": "F4iGmHtatRBY"
      },
      "source": [
        ""
      ],
      "execution_count": null,
      "outputs": []
    }
  ]
}